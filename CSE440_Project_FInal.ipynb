{
  "nbformat": 4,
  "nbformat_minor": 0,
  "metadata": {
    "colab": {
      "provenance": []
    },
    "kernelspec": {
      "name": "python3",
      "display_name": "Python 3"
    },
    "language_info": {
      "name": "python"
    }
  },
  "cells": [
    {
      "cell_type": "code",
      "source": [
        "pip install tensorflow\n"
      ],
      "metadata": {
        "colab": {
          "base_uri": "https://localhost:8080/"
        },
        "id": "ldsha8ZCDkR5",
        "outputId": "cc822a66-8076-440c-fef4-325b8a7bafc9"
      },
      "execution_count": null,
      "outputs": [
        {
          "output_type": "stream",
          "name": "stdout",
          "text": [
            "Requirement already satisfied: tensorflow in /usr/local/lib/python3.10/dist-packages (2.12.0)\n",
            "Requirement already satisfied: absl-py>=1.0.0 in /usr/local/lib/python3.10/dist-packages (from tensorflow) (1.4.0)\n",
            "Requirement already satisfied: astunparse>=1.6.0 in /usr/local/lib/python3.10/dist-packages (from tensorflow) (1.6.3)\n",
            "Requirement already satisfied: flatbuffers>=2.0 in /usr/local/lib/python3.10/dist-packages (from tensorflow) (23.5.26)\n",
            "Requirement already satisfied: gast<=0.4.0,>=0.2.1 in /usr/local/lib/python3.10/dist-packages (from tensorflow) (0.4.0)\n",
            "Requirement already satisfied: google-pasta>=0.1.1 in /usr/local/lib/python3.10/dist-packages (from tensorflow) (0.2.0)\n",
            "Requirement already satisfied: grpcio<2.0,>=1.24.3 in /usr/local/lib/python3.10/dist-packages (from tensorflow) (1.57.0)\n",
            "Requirement already satisfied: h5py>=2.9.0 in /usr/local/lib/python3.10/dist-packages (from tensorflow) (3.9.0)\n",
            "Requirement already satisfied: jax>=0.3.15 in /usr/local/lib/python3.10/dist-packages (from tensorflow) (0.4.14)\n",
            "Requirement already satisfied: keras<2.13,>=2.12.0 in /usr/local/lib/python3.10/dist-packages (from tensorflow) (2.12.0)\n",
            "Requirement already satisfied: libclang>=13.0.0 in /usr/local/lib/python3.10/dist-packages (from tensorflow) (16.0.6)\n",
            "Requirement already satisfied: numpy<1.24,>=1.22 in /usr/local/lib/python3.10/dist-packages (from tensorflow) (1.23.5)\n",
            "Requirement already satisfied: opt-einsum>=2.3.2 in /usr/local/lib/python3.10/dist-packages (from tensorflow) (3.3.0)\n",
            "Requirement already satisfied: packaging in /usr/local/lib/python3.10/dist-packages (from tensorflow) (23.1)\n",
            "Requirement already satisfied: protobuf!=4.21.0,!=4.21.1,!=4.21.2,!=4.21.3,!=4.21.4,!=4.21.5,<5.0.0dev,>=3.20.3 in /usr/local/lib/python3.10/dist-packages (from tensorflow) (3.20.3)\n",
            "Requirement already satisfied: setuptools in /usr/local/lib/python3.10/dist-packages (from tensorflow) (67.7.2)\n",
            "Requirement already satisfied: six>=1.12.0 in /usr/local/lib/python3.10/dist-packages (from tensorflow) (1.16.0)\n",
            "Requirement already satisfied: tensorboard<2.13,>=2.12 in /usr/local/lib/python3.10/dist-packages (from tensorflow) (2.12.3)\n",
            "Requirement already satisfied: tensorflow-estimator<2.13,>=2.12.0 in /usr/local/lib/python3.10/dist-packages (from tensorflow) (2.12.0)\n",
            "Requirement already satisfied: termcolor>=1.1.0 in /usr/local/lib/python3.10/dist-packages (from tensorflow) (2.3.0)\n",
            "Requirement already satisfied: typing-extensions>=3.6.6 in /usr/local/lib/python3.10/dist-packages (from tensorflow) (4.7.1)\n",
            "Requirement already satisfied: wrapt<1.15,>=1.11.0 in /usr/local/lib/python3.10/dist-packages (from tensorflow) (1.14.1)\n",
            "Requirement already satisfied: tensorflow-io-gcs-filesystem>=0.23.1 in /usr/local/lib/python3.10/dist-packages (from tensorflow) (0.33.0)\n",
            "Requirement already satisfied: wheel<1.0,>=0.23.0 in /usr/local/lib/python3.10/dist-packages (from astunparse>=1.6.0->tensorflow) (0.41.2)\n",
            "Requirement already satisfied: ml-dtypes>=0.2.0 in /usr/local/lib/python3.10/dist-packages (from jax>=0.3.15->tensorflow) (0.2.0)\n",
            "Requirement already satisfied: scipy>=1.7 in /usr/local/lib/python3.10/dist-packages (from jax>=0.3.15->tensorflow) (1.10.1)\n",
            "Requirement already satisfied: google-auth<3,>=1.6.3 in /usr/local/lib/python3.10/dist-packages (from tensorboard<2.13,>=2.12->tensorflow) (2.17.3)\n",
            "Requirement already satisfied: google-auth-oauthlib<1.1,>=0.5 in /usr/local/lib/python3.10/dist-packages (from tensorboard<2.13,>=2.12->tensorflow) (1.0.0)\n",
            "Requirement already satisfied: markdown>=2.6.8 in /usr/local/lib/python3.10/dist-packages (from tensorboard<2.13,>=2.12->tensorflow) (3.4.4)\n",
            "Requirement already satisfied: requests<3,>=2.21.0 in /usr/local/lib/python3.10/dist-packages (from tensorboard<2.13,>=2.12->tensorflow) (2.31.0)\n",
            "Requirement already satisfied: tensorboard-data-server<0.8.0,>=0.7.0 in /usr/local/lib/python3.10/dist-packages (from tensorboard<2.13,>=2.12->tensorflow) (0.7.1)\n",
            "Requirement already satisfied: werkzeug>=1.0.1 in /usr/local/lib/python3.10/dist-packages (from tensorboard<2.13,>=2.12->tensorflow) (2.3.7)\n",
            "Requirement already satisfied: cachetools<6.0,>=2.0.0 in /usr/local/lib/python3.10/dist-packages (from google-auth<3,>=1.6.3->tensorboard<2.13,>=2.12->tensorflow) (5.3.1)\n",
            "Requirement already satisfied: pyasn1-modules>=0.2.1 in /usr/local/lib/python3.10/dist-packages (from google-auth<3,>=1.6.3->tensorboard<2.13,>=2.12->tensorflow) (0.3.0)\n",
            "Requirement already satisfied: rsa<5,>=3.1.4 in /usr/local/lib/python3.10/dist-packages (from google-auth<3,>=1.6.3->tensorboard<2.13,>=2.12->tensorflow) (4.9)\n",
            "Requirement already satisfied: requests-oauthlib>=0.7.0 in /usr/local/lib/python3.10/dist-packages (from google-auth-oauthlib<1.1,>=0.5->tensorboard<2.13,>=2.12->tensorflow) (1.3.1)\n",
            "Requirement already satisfied: charset-normalizer<4,>=2 in /usr/local/lib/python3.10/dist-packages (from requests<3,>=2.21.0->tensorboard<2.13,>=2.12->tensorflow) (3.2.0)\n",
            "Requirement already satisfied: idna<4,>=2.5 in /usr/local/lib/python3.10/dist-packages (from requests<3,>=2.21.0->tensorboard<2.13,>=2.12->tensorflow) (3.4)\n",
            "Requirement already satisfied: urllib3<3,>=1.21.1 in /usr/local/lib/python3.10/dist-packages (from requests<3,>=2.21.0->tensorboard<2.13,>=2.12->tensorflow) (2.0.4)\n",
            "Requirement already satisfied: certifi>=2017.4.17 in /usr/local/lib/python3.10/dist-packages (from requests<3,>=2.21.0->tensorboard<2.13,>=2.12->tensorflow) (2023.7.22)\n",
            "Requirement already satisfied: MarkupSafe>=2.1.1 in /usr/local/lib/python3.10/dist-packages (from werkzeug>=1.0.1->tensorboard<2.13,>=2.12->tensorflow) (2.1.3)\n",
            "Requirement already satisfied: pyasn1<0.6.0,>=0.4.6 in /usr/local/lib/python3.10/dist-packages (from pyasn1-modules>=0.2.1->google-auth<3,>=1.6.3->tensorboard<2.13,>=2.12->tensorflow) (0.5.0)\n",
            "Requirement already satisfied: oauthlib>=3.0.0 in /usr/local/lib/python3.10/dist-packages (from requests-oauthlib>=0.7.0->google-auth-oauthlib<1.1,>=0.5->tensorboard<2.13,>=2.12->tensorflow) (3.2.2)\n"
          ]
        }
      ]
    },
    {
      "cell_type": "code",
      "execution_count": null,
      "metadata": {
        "id": "6dVVABMCYnyk"
      },
      "outputs": [],
      "source": [
        "import pandas as pd\n",
        "df_main = pd.read_csv('olid-training-v1.0.tsv', sep='\\t')\n",
        "df_main\n",
        "X=df_main['tweet']\n",
        "Y=df_main['subtask_a']\n",
        "Z=df_main['subtask_b']"
      ]
    },
    {
      "cell_type": "markdown",
      "source": [
        "Counting Offensive & Not Offensive Labels on training data\n",
        "\n",
        "\n",
        "\n",
        "\n",
        "\n"
      ],
      "metadata": {
        "id": "ZgWgjz1ZEZvd"
      }
    },
    {
      "cell_type": "code",
      "source": [
        "yes_count = Y.eq(\"OFF\").sum()\n",
        "no_count = Y.eq(\"NOT\").sum()\n",
        "\n",
        "print(f'Count of \"OFF\": {yes_count}')\n",
        "print(f'Count of \"NOT\": {no_count}')\n",
        "\n",
        "import matplotlib.pyplot as plt\n",
        "\n",
        "labels = [\"Offensive\",\"Not Offensive\"]\n",
        "counts = [yes_count, no_count]\n",
        "\n",
        "plt.figure(figsize=(10, 6))\n",
        "plt.bar(labels, counts, color='blue')\n",
        "\n",
        "plt.xlabel('Labels')\n",
        "plt.ylabel('Counts')\n",
        "plt.title('Distribution of OFFENSIVE and NOT OFFENSIVE')\n",
        "\n",
        "\n",
        "for i, value in enumerate(counts):\n",
        "    plt.text(i, value + 0.01, f'{value:.2f}', ha='center')\n",
        "\n",
        "plt.tight_layout()\n",
        "plt.show()"
      ],
      "metadata": {
        "colab": {
          "base_uri": "https://localhost:8080/",
          "height": 642
        },
        "id": "9XziPmQG-Lol",
        "outputId": "7aef2e2a-035f-490a-e7e4-e7ac6e35ff6e"
      },
      "execution_count": null,
      "outputs": [
        {
          "output_type": "stream",
          "name": "stdout",
          "text": [
            "Count of \"OFF\": 4400\n",
            "Count of \"NOT\": 8840\n"
          ]
        },
        {
          "output_type": "display_data",
          "data": {
            "text/plain": [
              "<Figure size 1000x600 with 1 Axes>"
            ],
            "image/png": "[encoded data removed]"
          },
          "metadata": {}
        }
      ]
    },
    {
      "cell_type": "markdown",
      "source": [
        "Counting Targeted & Untargeted Labels on training data"
      ],
      "metadata": {
        "id": "ZV1dFgXWEloT"
      }
    },
    {
      "cell_type": "code",
      "source": [
        "yes_count = Z.eq(\"TIN\").sum()\n",
        "no_count = Z.eq(\"UNT\").sum()\n",
        "\n",
        "print(f'Count of \"Targeted\": {yes_count}')\n",
        "print(f'Count of \"Untargeted\": {no_count}')\n",
        "\n",
        "import matplotlib.pyplot as plt\n",
        "\n",
        "labels = [\"Targeted\",\"Untargeted\"]\n",
        "counts = [yes_count, no_count]\n",
        "\n",
        "plt.figure(figsize=(10, 6))\n",
        "plt.bar(labels, counts, color='blue')\n",
        "\n",
        "plt.xlabel('Labels')\n",
        "plt.ylabel('Counts')\n",
        "plt.title('Distribution of Targeted and Untargeted')\n",
        "\n",
        "\n",
        "for i, value in enumerate(counts):\n",
        "    plt.text(i, value + 0.01, f'{value:.2f}', ha='center')\n",
        "\n",
        "plt.tight_layout()\n",
        "plt.show()"
      ],
      "metadata": {
        "colab": {
          "base_uri": "https://localhost:8080/",
          "height": 642
        },
        "id": "c20aTGkf_ZhM",
        "outputId": "751a1c05-161e-49bc-d493-078e3158d5ee"
      },
      "execution_count": null,
      "outputs": [
        {
          "output_type": "stream",
          "name": "stdout",
          "text": [
            "Count of \"Targeted\": 3876\n",
            "Count of \"Untargeted\": 524\n"
          ]
        },
        {
          "output_type": "display_data",
          "data": {
            "text/plain": [
              "<Figure size 1000x600 with 1 Axes>"
            ],
            "image/png": "[encoded data removed]"
          },
          "metadata": {}
        }
      ]
    },
    {
      "cell_type": "code",
      "source": [
        "from tensorflow.keras.layers import Embedding\n",
        "from tensorflow.keras.preprocessing.sequence import pad_sequences\n",
        "from tensorflow.keras.models import Sequential\n",
        "from tensorflow.keras.preprocessing.text import one_hot\n",
        "from tensorflow.keras.layers import LSTM\n",
        "from tensorflow.keras.layers import Dense\n",
        "from tensorflow.keras.layers import Bidirectional\n",
        "from tensorflow.keras.layers import Dropout\n",
        "from tensorflow.keras.layers import GRU"
      ],
      "metadata": {
        "id": "UmuWHrl1babu"
      },
      "execution_count": null,
      "outputs": []
    },
    {
      "cell_type": "code",
      "source": [
        "import nltk\n",
        "import re\n",
        "from nltk.corpus import stopwords\n",
        "nltk.download('stopwords')"
      ],
      "metadata": {
        "colab": {
          "base_uri": "https://localhost:8080/"
        },
        "id": "MiNkuqmvZwFz",
        "outputId": "797a039d-5f4b-4b4f-e922-c1343160dab2"
      },
      "execution_count": null,
      "outputs": [
        {
          "output_type": "stream",
          "name": "stderr",
          "text": [
            "[nltk_data] Downloading package stopwords to /root/nltk_data...\n",
            "[nltk_data]   Unzipping corpora/stopwords.zip.\n"
          ]
        },
        {
          "output_type": "execute_result",
          "data": {
            "text/plain": [
              "True"
            ]
          },
          "metadata": {},
          "execution_count": 6
        }
      ]
    },
    {
      "cell_type": "code",
      "source": [
        "X = df_main['tweet']\n",
        "X\n",
        "arr = X.to_numpy()\n",
        "print(arr)"
      ],
      "metadata": {
        "colab": {
          "base_uri": "https://localhost:8080/"
        },
        "id": "5QbRxn4qZ3h0",
        "outputId": "9f8b2f11-2d04-48bf-aa8a-00aec7cb7717"
      },
      "execution_count": null,
      "outputs": [
        {
          "output_type": "stream",
          "name": "stdout",
          "text": [
            "['@USER She should ask a few native Americans what their take on this is.'\n",
            " '@USER @USER Go home you’re drunk!!! @USER #MAGA #Trump2020 👊🇺🇸👊 URL'\n",
            " 'Amazon is investigating Chinese employees who are selling internal data to third-party sellers looking for an edge in the competitive marketplace. URL #Amazon #MAGA #KAG #CHINA #TCOT'\n",
            " ... \"@USER And why report this garbage.  We don't give a crap.\"\n",
            " '@USER Pussy'\n",
            " '#Spanishrevenge vs. #justice #HumanRights and #FreedomOfExpression #Spain is a  #fakedemocracy @USER @USER @USER @USER @USER @USER @USER @USER @USER @USER @USER @USER @USER @USER @USER #cddr #shameonSpain #WakeupEurope @USER URL']\n"
          ]
        }
      ]
    },
    {
      "cell_type": "markdown",
      "source": [
        "Creating Word Corpus for Training Data\n"
      ],
      "metadata": {
        "id": "9BYxEbJ9E1x0"
      }
    },
    {
      "cell_type": "code",
      "source": [
        "from nltk.stem.porter import PorterStemmer\n",
        "ps = PorterStemmer()\n",
        "corpus = []\n",
        "arr = X.to_numpy()\n",
        "print(arr)\n",
        "for i in range(0, len(arr)):\n",
        "    review = re.sub('[^a-zA-Z]', ' ', arr[i])\n",
        "    review = review.lower()\n",
        "    review = review.split()\n",
        "\n",
        "    review = [ps.stem(word) for word in review if not word in stopwords.words('english')]\n",
        "    review = ' '.join(review)\n",
        "    corpus.append(review)"
      ],
      "metadata": {
        "id": "tGXQSgFGZyaM",
        "colab": {
          "base_uri": "https://localhost:8080/"
        },
        "outputId": "db182dd7-a973-420b-aae2-3f61c6acbddb"
      },
      "execution_count": null,
      "outputs": [
        {
          "output_type": "stream",
          "name": "stdout",
          "text": [
            "['@USER She should ask a few native Americans what their take on this is.'\n",
            " '@USER @USER Go home you’re drunk!!! @USER #MAGA #Trump2020 👊🇺🇸👊 URL'\n",
            " 'Amazon is investigating Chinese employees who are selling internal data to third-party sellers looking for an edge in the competitive marketplace. URL #Amazon #MAGA #KAG #CHINA #TCOT'\n",
            " ... \"@USER And why report this garbage.  We don't give a crap.\"\n",
            " '@USER Pussy'\n",
            " '#Spanishrevenge vs. #justice #HumanRights and #FreedomOfExpression #Spain is a  #fakedemocracy @USER @USER @USER @USER @USER @USER @USER @USER @USER @USER @USER @USER @USER @USER @USER #cddr #shameonSpain #WakeupEurope @USER URL']\n"
          ]
        }
      ]
    },
    {
      "cell_type": "code",
      "source": [
        "import nltk\n",
        "nltk.download('punkt')\n",
        "from nltk.tokenize import word_tokenize\n",
        "count=0\n",
        "length=[]\n",
        "for i in corpus:\n",
        "    length.append(len(i))\n",
        "print(max(length))\n",
        "print(min(length))\n",
        "sum=0\n",
        "for i in length:\n",
        "    sum+=i\n",
        "print(\"average\",round(sum/len(length)))"
      ],
      "metadata": {
        "colab": {
          "base_uri": "https://localhost:8080/"
        },
        "id": "Q-g6BNX55u0o",
        "outputId": "c1586985-f1d9-4f4b-9e37-3993973999c4"
      },
      "execution_count": null,
      "outputs": [
        {
          "output_type": "stream",
          "name": "stderr",
          "text": [
            "[nltk_data] Downloading package punkt to /root/nltk_data...\n",
            "[nltk_data]   Unzipping tokenizers/punkt.zip.\n"
          ]
        },
        {
          "output_type": "stream",
          "name": "stdout",
          "text": [
            "416\n",
            "4\n",
            "average 74\n"
          ]
        }
      ]
    },
    {
      "cell_type": "code",
      "source": [
        "from tensorflow.keras.preprocessing.text import one_hot\n",
        "\n",
        "voc_size=5000\n",
        "onehot_repr=[one_hot(words,voc_size)for words in corpus]\n",
        "#onehot_repr"
      ],
      "metadata": {
        "id": "O8mAIioHaYC0"
      },
      "execution_count": null,
      "outputs": []
    },
    {
      "cell_type": "markdown",
      "source": [
        "Embedding\n"
      ],
      "metadata": {
        "id": "F97eDhYwFHcf"
      }
    },
    {
      "cell_type": "code",
      "source": [
        "from tensorflow.keras.preprocessing.sequence import pad_sequences\n",
        "sent_length=20\n",
        "embedded_docs=pad_sequences(onehot_repr,padding='pre',maxlen=sent_length)\n",
        "print(embedded_docs)"
      ],
      "metadata": {
        "colab": {
          "base_uri": "https://localhost:8080/"
        },
        "id": "g9G3cePya3FT",
        "outputId": "cd7fc69a-e812-499b-ba59-fa5ccf28c448"
      },
      "execution_count": null,
      "outputs": [
        {
          "output_type": "stream",
          "name": "stdout",
          "text": [
            "[[   0    0    0 ...  221 4350  133]\n",
            " [   0    0    0 ... 4424  429  420]\n",
            " [2590 2731 3047 ... 3090 4154 4161]\n",
            " ...\n",
            " [   0    0    0 ... 2926  125 4709]\n",
            " [   0    0    0 ...    0 2354 2080]\n",
            " [2354 2354 2354 ... 1443 2354  420]]\n"
          ]
        }
      ]
    },
    {
      "cell_type": "markdown",
      "source": [
        "Creating Unidirectional LSTM model\n"
      ],
      "metadata": {
        "id": "vtahYpE7FNpD"
      }
    },
    {
      "cell_type": "code",
      "source": [
        "embedding_vector_features=40\n",
        "uni_lstm=Sequential()\n",
        "uni_lstm.add(Embedding(voc_size,embedding_vector_features,input_length=sent_length))\n",
        "uni_lstm.add(LSTM(10))\n",
        "uni_lstm.add(Dense(1,activation='tanh'))\n",
        "uni_lstm.compile(loss='binary_crossentropy',optimizer='adam',metrics=['accuracy'])\n",
        "print(uni_lstm.summary())"
      ],
      "metadata": {
        "colab": {
          "base_uri": "https://localhost:8080/"
        },
        "id": "l_hn_vJ4bRDU",
        "outputId": "d6f2771c-1c59-41a4-b180-9ce3bd66356d"
      },
      "execution_count": null,
      "outputs": [
        {
          "output_type": "stream",
          "name": "stdout",
          "text": [
            "Model: \"sequential\"\n",
            "_________________________________________________________________\n",
            " Layer (type)                Output Shape              Param #   \n",
            "=================================================================\n",
            " embedding (Embedding)       (None, 20, 40)            200000    \n",
            "                                                                 \n",
            " lstm (LSTM)                 (None, 10)                2040      \n",
            "                                                                 \n",
            " dense (Dense)               (None, 1)                 11        \n",
            "                                                                 \n",
            "=================================================================\n",
            "Total params: 202,051\n",
            "Trainable params: 202,051\n",
            "Non-trainable params: 0\n",
            "_________________________________________________________________\n",
            "None\n"
          ]
        }
      ]
    },
    {
      "cell_type": "markdown",
      "source": [
        "Creating Bidirectional LSTM model"
      ],
      "metadata": {
        "id": "xFtPWBCDFdre"
      }
    },
    {
      "cell_type": "code",
      "source": [
        "embedding_vector_features=40\n",
        "bi_lstm=Sequential()\n",
        "bi_lstm.add(Embedding(voc_size,embedding_vector_features,input_length=sent_length))\n",
        "bi_lstm.add(Bidirectional(LSTM(2)))\n",
        "bi_lstm.add(Dropout(0.3))\n",
        "bi_lstm.add(Dense(1,activation='tanh'))\n",
        "bi_lstm.compile(loss='binary_crossentropy',optimizer='adam',metrics=['accuracy'])\n",
        "print(bi_lstm.summary())"
      ],
      "metadata": {
        "colab": {
          "base_uri": "https://localhost:8080/"
        },
        "id": "kbYfq_wXblnO",
        "outputId": "d6f3853b-71bd-4854-c330-091213eb6729"
      },
      "execution_count": null,
      "outputs": [
        {
          "output_type": "stream",
          "name": "stdout",
          "text": [
            "Model: \"sequential_1\"\n",
            "_________________________________________________________________\n",
            " Layer (type)                Output Shape              Param #   \n",
            "=================================================================\n",
            " embedding_1 (Embedding)     (None, 20, 40)            200000    \n",
            "                                                                 \n",
            " bidirectional (Bidirectiona  (None, 4)                688       \n",
            " l)                                                              \n",
            "                                                                 \n",
            " dropout (Dropout)           (None, 4)                 0         \n",
            "                                                                 \n",
            " dense_1 (Dense)             (None, 1)                 5         \n",
            "                                                                 \n",
            "=================================================================\n",
            "Total params: 200,693\n",
            "Trainable params: 200,693\n",
            "Non-trainable params: 0\n",
            "_________________________________________________________________\n",
            "None\n"
          ]
        }
      ]
    },
    {
      "cell_type": "markdown",
      "source": [
        "Creating Bidirectional GRU model"
      ],
      "metadata": {
        "id": "N9CJx1cRFvun"
      }
    },
    {
      "cell_type": "code",
      "source": [
        "vocab_size = 5000\n",
        "embedding_dim = 40\n",
        "max_sequence_length = 20\n",
        "hidden_units = 2\n",
        "num_classes = 1\n",
        "bi_gru = Sequential([\n",
        "    Embedding(input_dim=vocab_size, output_dim=embedding_dim, input_length=max_sequence_length),\n",
        "    Bidirectional(GRU(units=hidden_units, return_sequences=False)),\n",
        "    Dense(num_classes, activation='tanh')\n",
        "])"
      ],
      "metadata": {
        "id": "lVAEQE1oL-w-"
      },
      "execution_count": null,
      "outputs": []
    },
    {
      "cell_type": "code",
      "source": [
        "bi_gru.compile(optimizer='adam', loss='categorical_crossentropy', metrics=['accuracy'])"
      ],
      "metadata": {
        "id": "yMySbP_4MGF2"
      },
      "execution_count": null,
      "outputs": []
    },
    {
      "cell_type": "markdown",
      "source": [
        "Preparing Testing data for **Task A**"
      ],
      "metadata": {
        "id": "dWO7P73kF5Nr"
      }
    },
    {
      "cell_type": "code",
      "source": [
        "import pandas as pd\n",
        "from sklearn.preprocessing import LabelEncoder\n",
        "enc = LabelEncoder()\n",
        "df = pd.read_csv('testset-levela.tsv', sep='\\t')\n",
        "df=df.dropna()\n",
        "x=df['tweet']\n",
        "y = pd.read_csv(\"labels-levela.csv\", header = None)\n",
        "\n",
        "y.drop(y.columns[[0]], axis=1, inplace=True)\n",
        "from nltk.stem.porter import PorterStemmer\n",
        "ps = PorterStemmer()\n",
        "corpus2 = []\n",
        "arr2 = x.to_numpy()\n",
        "\n",
        "for i in range(0, len(arr2)):\n",
        "    review = re.sub('[^a-zA-Z]', ' ', arr2[i])\n",
        "    review = review.lower()\n",
        "    review = review.split()\n",
        "\n",
        "    review = [ps.stem(word) for word in review if not word in stopwords.words('english')]\n",
        "    review = ' '.join(review)\n",
        "    corpus2.append(review)\n",
        "onehot_repr2=[one_hot(words,voc_size)for words in corpus2]\n",
        "sent_length=20\n",
        "embedded_docs2=pad_sequences(onehot_repr2,padding='pre',maxlen=sent_length)\n",
        "import numpy as np\n",
        "X_a_test=np.array(embedded_docs2)\n",
        "y_a_test=np.array(y)\n",
        "y_a_test = enc.fit_transform(y_a_test)\n",
        "print(len(y_a_test))"
      ],
      "metadata": {
        "id": "YJC05R-QcTgU",
        "colab": {
          "base_uri": "https://localhost:8080/"
        },
        "outputId": "fa2d277b-2a18-4763-adb8-6c9005a281c3"
      },
      "execution_count": null,
      "outputs": [
        {
          "output_type": "stream",
          "name": "stdout",
          "text": [
            "860\n"
          ]
        },
        {
          "output_type": "stream",
          "name": "stderr",
          "text": [
            "/usr/local/lib/python3.10/dist-packages/sklearn/preprocessing/_label.py:116: DataConversionWarning: A column-vector y was passed when a 1d array was expected. Please change the shape of y to (n_samples, ), for example using ravel().\n",
            "  y = column_or_1d(y, warn=True)\n"
          ]
        }
      ]
    },
    {
      "cell_type": "code",
      "source": [
        "import nltk\n",
        "nltk.download('punkt')  # Download necessary data\n",
        "from nltk.tokenize import word_tokenize\n",
        "count=0\n",
        "length=[]\n",
        "for i in corpus2:\n",
        "    length.append(len(i))\n",
        "print(max(length))\n",
        "print(min(length))\n",
        "sum=0\n",
        "for i in length:\n",
        "    sum+=i\n",
        "print(\"average\",round(sum/len(length)))"
      ],
      "metadata": {
        "colab": {
          "base_uri": "https://localhost:8080/"
        },
        "id": "6ocn4zZp9xs7",
        "outputId": "2b6f493b-bc69-44be-c58c-8138c4d11569"
      },
      "execution_count": null,
      "outputs": [
        {
          "output_type": "stream",
          "name": "stdout",
          "text": [
            "236\n",
            "7\n",
            "average 88\n"
          ]
        },
        {
          "output_type": "stream",
          "name": "stderr",
          "text": [
            "[nltk_data] Downloading package punkt to /root/nltk_data...\n",
            "[nltk_data]   Package punkt is already up-to-date!\n"
          ]
        }
      ]
    },
    {
      "cell_type": "markdown",
      "source": [
        "Counting Offensive & Not Offenvise Labels on testing data"
      ],
      "metadata": {
        "id": "9sbUCkO9G5lj"
      }
    },
    {
      "cell_type": "code",
      "source": [
        "yes_count = 0\n",
        "no_count = 0\n",
        "for i in y_a_test:\n",
        "    if i==1:\n",
        "        yes_count+=1\n",
        "    else:\n",
        "        no_count+=1\n",
        "\n",
        "print(f'Count of \"OFF\": {yes_count}')\n",
        "print(f'Count of \"NOT\": {no_count}')\n",
        "\n",
        "import matplotlib.pyplot as plt\n",
        "\n",
        "labels = [\"Offensive\",\"Not Offensive\"]\n",
        "counts = [yes_count, no_count]\n",
        "\n",
        "plt.figure(figsize=(10, 6))\n",
        "plt.bar(labels, counts, color='blue')\n",
        "\n",
        "plt.xlabel('Labels')\n",
        "plt.ylabel('Counts')\n",
        "plt.title('Distribution of OFFENSIVE and NOT OFFENSIVE')\n",
        "\n",
        "\n",
        "for i, value in enumerate(counts):\n",
        "    plt.text(i, value + 0.01, f'{value:.2f}', ha='center')\n",
        "\n",
        "plt.tight_layout()\n",
        "plt.show()"
      ],
      "metadata": {
        "colab": {
          "base_uri": "https://localhost:8080/",
          "height": 642
        },
        "id": "hzDMP7gse-jd",
        "outputId": "8a115f1e-1fd2-4029-912d-d1283dff2c9d"
      },
      "execution_count": null,
      "outputs": [
        {
          "output_type": "stream",
          "name": "stdout",
          "text": [
            "Count of \"OFF\": 240\n",
            "Count of \"NOT\": 620\n"
          ]
        },
        {
          "output_type": "display_data",
          "data": {
            "text/plain": [
              "<Figure size 1000x600 with 1 Axes>"
            ],
            "image/png": "[encoded data removed]"
          },
          "metadata": {}
        }
      ]
    },
    {
      "cell_type": "code",
      "source": [
        "# from sklearn.preprocessing import LabelEncoder\n",
        "# enc = LabelEncoder()\n",
        "\n",
        "# Y = enc.fit_transform(Y)\n",
        "# Y"
      ],
      "metadata": {
        "id": "JWcdXr2EeZUp"
      },
      "execution_count": null,
      "outputs": []
    },
    {
      "cell_type": "code",
      "source": [
        "import numpy as np\n",
        "\n",
        "X_a_train=np.array(embedded_docs)\n",
        "y_a_train=np.array(Y)\n",
        "\n",
        "y_a_train = enc.fit_transform(y_a_train)\n",
        "print(y_a_train)"
      ],
      "metadata": {
        "id": "WUYQqlSdc1l9",
        "colab": {
          "base_uri": "https://localhost:8080/"
        },
        "outputId": "e4841619-3783-486d-85dd-d36e43043fd6"
      },
      "execution_count": null,
      "outputs": [
        {
          "output_type": "stream",
          "name": "stdout",
          "text": [
            "[1 1 0 ... 1 1 0]\n"
          ]
        }
      ]
    },
    {
      "cell_type": "markdown",
      "source": [
        "Training Unidirectional LSTM model for **Task A**"
      ],
      "metadata": {
        "id": "9zSE9LJkHKjc"
      }
    },
    {
      "cell_type": "code",
      "source": [
        "uni_lstm.fit(X_a_train,y_a_train,validation_data=(X_a_test,y_a_test),epochs=10,batch_size=64)"
      ],
      "metadata": {
        "colab": {
          "base_uri": "https://localhost:8080/"
        },
        "id": "WkRfqZAdPa4D",
        "outputId": "cb09a9f9-44f9-469e-ddf7-abe1f8727fdd"
      },
      "execution_count": null,
      "outputs": [
        {
          "output_type": "stream",
          "name": "stdout",
          "text": [
            "Epoch 1/10\n",
            "207/207 [==============================] - 8s 24ms/step - loss: 0.6583 - accuracy: 0.6718 - val_loss: 0.5291 - val_accuracy: 0.7430\n",
            "Epoch 2/10\n",
            "207/207 [==============================] - 3s 16ms/step - loss: 0.4983 - accuracy: 0.7669 - val_loss: 0.6074 - val_accuracy: 0.7744\n",
            "Epoch 3/10\n",
            "207/207 [==============================] - 3s 16ms/step - loss: 0.4316 - accuracy: 0.8079 - val_loss: 0.7315 - val_accuracy: 0.7942\n",
            "Epoch 4/10\n",
            "207/207 [==============================] - 4s 20ms/step - loss: 0.3916 - accuracy: 0.8279 - val_loss: 0.7240 - val_accuracy: 0.7686\n",
            "Epoch 5/10\n",
            "207/207 [==============================] - 3s 17ms/step - loss: 0.3467 - accuracy: 0.8578 - val_loss: 0.9894 - val_accuracy: 0.7558\n",
            "Epoch 6/10\n",
            "207/207 [==============================] - 3s 16ms/step - loss: 0.3108 - accuracy: 0.8786 - val_loss: 1.1271 - val_accuracy: 0.6698\n",
            "Epoch 7/10\n",
            "207/207 [==============================] - 3s 16ms/step - loss: 0.3254 - accuracy: 0.8721 - val_loss: 1.3457 - val_accuracy: 0.7372\n",
            "Epoch 8/10\n",
            "207/207 [==============================] - 4s 21ms/step - loss: 0.2633 - accuracy: 0.9002 - val_loss: 1.6096 - val_accuracy: 0.7256\n",
            "Epoch 9/10\n",
            "207/207 [==============================] - 3s 16ms/step - loss: 0.2372 - accuracy: 0.9115 - val_loss: 1.7047 - val_accuracy: 0.7233\n",
            "Epoch 10/10\n",
            "207/207 [==============================] - 3s 16ms/step - loss: 0.2186 - accuracy: 0.9218 - val_loss: 1.8661 - val_accuracy: 0.6919\n"
          ]
        },
        {
          "output_type": "execute_result",
          "data": {
            "text/plain": [
              "<keras.callbacks.History at 0x7f777368b8e0>"
            ]
          },
          "metadata": {},
          "execution_count": 21
        }
      ]
    },
    {
      "cell_type": "markdown",
      "source": [
        "Testing Unidirectional LSTM model and finding Accuracy for **Task A**\n"
      ],
      "metadata": {
        "id": "YlWP6lswHbIO"
      }
    },
    {
      "cell_type": "code",
      "source": [
        "y_pred1=uni_lstm.predict(X_a_test)\n",
        "import numpy as np\n",
        "\n",
        "\n",
        "from sklearn.metrics import accuracy_score\n",
        "\n",
        "data=[]\n",
        "def sigmoid(x):\n",
        "    return 1 / (1 + np.exp(-x))\n",
        "\n",
        "def map_to_binary_between_minus_one_and_one(value):\n",
        "    mapped_value = sigmoid(value)\n",
        "    return round(mapped_value)\n",
        "\n",
        "for i in y_pred1:\n",
        "    for j in i:\n",
        "        data.append(j)\n",
        "\n",
        "\n",
        "binary_data1 = [map_to_binary_between_minus_one_and_one(value) for value in data]\n",
        "\n",
        "accuracy = accuracy_score(y_a_test, binary_data1)\n",
        "print(\"Accuracy:\", accuracy)\n",
        "print(len(y_pred1))\n",
        "\n"
      ],
      "metadata": {
        "colab": {
          "base_uri": "https://localhost:8080/"
        },
        "id": "KNprZkxuBMxG",
        "outputId": "bcf7b1b9-509b-402e-c1c5-8550cb820882"
      },
      "execution_count": null,
      "outputs": [
        {
          "output_type": "stream",
          "name": "stdout",
          "text": [
            "27/27 [==============================] - 1s 3ms/step\n",
            "Accuracy: 0.5767441860465117\n",
            "860\n"
          ]
        }
      ]
    },
    {
      "cell_type": "markdown",
      "source": [
        "Creating Confusion Matrix and finding Precision, Recall, F1 & F2 Score on **Task A** by Unidirectional LSTM model\n"
      ],
      "metadata": {
        "id": "L6rRMIIwH91i"
      }
    },
    {
      "cell_type": "code",
      "source": [
        "\n",
        "import numpy as np\n",
        "import matplotlib.pyplot as plt\n",
        "import seaborn as sns\n",
        "from sklearn.metrics import confusion_matrix\n",
        "\n",
        "cm = confusion_matrix(y_a_test, binary_data1)\n",
        "\n",
        "plt.figure(figsize=(6, 6))\n",
        "sns.heatmap(cm, annot=True, fmt=\"d\", cmap=\"Blues\",\n",
        "            xticklabels=[\"Predicted Negative\", \"Predicted Positive\"],\n",
        "            yticklabels=[\"True Negative\", \"True Positive\"])\n",
        "plt.xlabel(\"Predicted\")\n",
        "plt.ylabel(\"True\")\n",
        "plt.title(\"Confusion Matrix for Unidirectional LSTM\")\n",
        "plt.show()\n",
        "\n",
        "from sklearn.metrics import precision_score, recall_score\n",
        "\n",
        "precision = precision_score(y_a_test, binary_data1)\n",
        "recall = recall_score(y_a_test, binary_data1)\n",
        "\n",
        "print(\"Precision:\", precision)\n",
        "print(\"Recall:\", recall)\n",
        "\n",
        "from sklearn.metrics import f1_score, fbeta_score\n",
        "from sklearn.datasets import load_iris\n",
        "from sklearn.ensemble import RandomForestClassifier\n",
        "from sklearn.model_selection import train_test_split\n",
        "\n",
        "\n",
        "clf = RandomForestClassifier(n_estimators=100, random_state=42)\n",
        "clf.fit(X_a_train, y_a_train)\n",
        "\n",
        "y_pred = clf.predict(X_a_test)\n",
        "\n",
        "f1 = f1_score(y_a_test, binary_data1)\n",
        "\n",
        "f2 = fbeta_score(y_a_test, binary_data1, beta=2)\n",
        "\n",
        "print(f\"F1 Score: {f1:.4f}\")\n",
        "print(f\"F2 Score: {f2:.4f}\")\n"
      ],
      "metadata": {
        "colab": {
          "base_uri": "https://localhost:8080/",
          "height": 633
        },
        "id": "QvzZgtmWCoix",
        "outputId": "ca638b57-66b6-4c80-cdfb-73021d65d79c"
      },
      "execution_count": null,
      "outputs": [
        {
          "output_type": "display_data",
          "data": {
            "text/plain": [
              "<Figure size 600x600 with 2 Axes>"
            ],
            "image/png": "[encoded data removed]"
          },
          "metadata": {}
        },
        {
          "output_type": "stream",
          "name": "stdout",
          "text": [
            "Precision: 0.3669527896995708\n",
            "Recall: 0.7125\n",
            "F1 Score: 0.4844\n",
            "F2 Score: 0.5996\n"
          ]
        }
      ]
    },
    {
      "cell_type": "markdown",
      "source": [
        "Training Bidirectional LSTM model for **Task A**"
      ],
      "metadata": {
        "id": "078SeO_tIlQl"
      }
    },
    {
      "cell_type": "code",
      "source": [
        "bi_lstm.fit(X_a_train,y_a_train,epochs=10,batch_size=64)"
      ],
      "metadata": {
        "colab": {
          "base_uri": "https://localhost:8080/"
        },
        "id": "NCnpYjjKq5-M",
        "outputId": "1ef6d07a-a903-4315-f7c4-cd5636ec6af3"
      },
      "execution_count": null,
      "outputs": [
        {
          "output_type": "stream",
          "name": "stdout",
          "text": [
            "Epoch 1/10\n",
            "207/207 [==============================] - 10s 26ms/step - loss: 0.9124 - accuracy: 0.6681\n",
            "Epoch 2/10\n",
            "207/207 [==============================] - 4s 20ms/step - loss: 0.6173 - accuracy: 0.6835\n",
            "Epoch 3/10\n",
            "207/207 [==============================] - 6s 30ms/step - loss: 0.5528 - accuracy: 0.7271\n",
            "Epoch 4/10\n",
            "207/207 [==============================] - 4s 21ms/step - loss: 0.5032 - accuracy: 0.7609\n",
            "Epoch 5/10\n",
            "207/207 [==============================] - 4s 20ms/step - loss: 0.4805 - accuracy: 0.7829\n",
            "Epoch 6/10\n",
            "207/207 [==============================] - 5s 26ms/step - loss: 0.4503 - accuracy: 0.8000\n",
            "Epoch 7/10\n",
            "207/207 [==============================] - 5s 22ms/step - loss: 0.4615 - accuracy: 0.7917\n",
            "Epoch 8/10\n",
            "207/207 [==============================] - 4s 21ms/step - loss: 0.4313 - accuracy: 0.8205\n",
            "Epoch 9/10\n",
            "207/207 [==============================] - 5s 26ms/step - loss: 0.3977 - accuracy: 0.8301\n",
            "Epoch 10/10\n",
            "207/207 [==============================] - 4s 20ms/step - loss: 0.3796 - accuracy: 0.8423\n"
          ]
        },
        {
          "output_type": "execute_result",
          "data": {
            "text/plain": [
              "<keras.callbacks.History at 0x7f776f93a560>"
            ]
          },
          "metadata": {},
          "execution_count": 24
        }
      ]
    },
    {
      "cell_type": "markdown",
      "source": [
        "Testing Bidirectional LSTM model and finding Accuracy for **Task A**"
      ],
      "metadata": {
        "id": "jIRPFdABIwv9"
      }
    },
    {
      "cell_type": "code",
      "source": [
        "y_pred2=bi_lstm.predict(X_a_test)\n",
        "import numpy as np\n",
        "from sklearn.metrics import accuracy_score\n",
        "\n",
        "continuous_data=[]\n",
        "def sigmoid(x):\n",
        "    return 1 / (1 + np.exp(-x))\n",
        "\n",
        "def map_to_binary_between_minus_one_and_one(value):\n",
        "    mapped_value = sigmoid(value)\n",
        "    return round(mapped_value)\n",
        "\n",
        "for i in y_pred2:\n",
        "    for j in i:\n",
        "        continuous_data.append(j)\n",
        "\n",
        "\n",
        "binary_data = [map_to_binary_between_minus_one_and_one(value) for value in continuous_data]\n",
        "\n",
        "accuracy = accuracy_score(y_a_test, binary_data)\n",
        "print(\"Accuracy:\", accuracy)\n"
      ],
      "metadata": {
        "colab": {
          "base_uri": "https://localhost:8080/"
        },
        "id": "JjckPHS7Ffv7",
        "outputId": "dac8c0d4-05af-4403-8b48-13c32247c990"
      },
      "execution_count": null,
      "outputs": [
        {
          "output_type": "stream",
          "name": "stdout",
          "text": [
            "27/27 [==============================] - 1s 4ms/step\n",
            "Accuracy: 0.536046511627907\n"
          ]
        }
      ]
    },
    {
      "cell_type": "markdown",
      "source": [
        "Creating Confusion Matrix and finding Precision, Recall, F1 & F2 Score on **Task A** by Bidirectional LSTM model"
      ],
      "metadata": {
        "id": "7hketUfxPMj1"
      }
    },
    {
      "cell_type": "code",
      "source": [
        "import numpy as np\n",
        "import matplotlib.pyplot as plt\n",
        "import seaborn as sns\n",
        "from sklearn.metrics import confusion_matrix\n",
        "\n",
        "from sklearn.metrics import f1_score, fbeta_score\n",
        "\n",
        "from sklearn.ensemble import RandomForestClassifier\n",
        "from sklearn.model_selection import train_test_split\n",
        "\n",
        "cm = confusion_matrix(y_a_test, binary_data)\n",
        "\n",
        "plt.figure(figsize=(6, 6))\n",
        "sns.heatmap(cm, annot=True, fmt=\"d\", cmap=\"Blues\",\n",
        "            xticklabels=[\"Predicted Negative\", \"Predicted Positive\"],\n",
        "            yticklabels=[\"True Negative\", \"True Positive\"])\n",
        "plt.xlabel(\"Predicted\")\n",
        "plt.ylabel(\"True\")\n",
        "plt.title(\"Confusion Matrix for Bidirectional LSTM\")\n",
        "plt.show()\n",
        "\n",
        "from sklearn.metrics import precision_score, recall_score\n",
        "\n",
        "precision = precision_score(y_a_test, binary_data)\n",
        "recall = recall_score(y_a_test, binary_data)\n",
        "\n",
        "print(\"Precision:\", precision)\n",
        "print(\"Recall:\", recall)\n",
        "\n",
        "clf = RandomForestClassifier(n_estimators=100, random_state=42)\n",
        "clf.fit(X_a_train, y_a_train)\n",
        "\n",
        "y_pred = clf.predict(X_a_test)\n",
        "\n",
        "f1 = f1_score(y_a_test, binary_data)\n",
        "\n",
        "f2 = fbeta_score(y_a_test, binary_data, beta=2)\n",
        "\n",
        "print(f\"F1 Score: {f1:.4f}\")\n",
        "print(f\"F2 Score: {f2:.4f}\")"
      ],
      "metadata": {
        "colab": {
          "base_uri": "https://localhost:8080/",
          "height": 633
        },
        "id": "dM9iiyy-GMEn",
        "outputId": "8c5b1670-2c8b-45a7-9c6c-c32c07495d8b"
      },
      "execution_count": null,
      "outputs": [
        {
          "output_type": "display_data",
          "data": {
            "text/plain": [
              "<Figure size 600x600 with 2 Axes>"
            ],
            "image/png": "[encoded data removed]"
          },
          "metadata": {}
        },
        {
          "output_type": "stream",
          "name": "stdout",
          "text": [
            "Precision: 0.36683417085427134\n",
            "Recall: 0.9125\n",
            "F1 Score: 0.5233\n",
            "F2 Score: 0.7033\n"
          ]
        }
      ]
    },
    {
      "cell_type": "markdown",
      "source": [
        "Training Bidirectional GRU model for **Task A**"
      ],
      "metadata": {
        "id": "GmDmHkTiPaap"
      }
    },
    {
      "cell_type": "code",
      "source": [
        "bi_gru.fit(X_a_train, y_a_train, validation_data=(X_a_test,y_a_test), epochs=10 , batch_size=64)"
      ],
      "metadata": {
        "id": "0IIe9cA8MJq-",
        "colab": {
          "base_uri": "https://localhost:8080/"
        },
        "outputId": "2f8491d2-629e-4ad8-a179-fb495c0d5478"
      },
      "execution_count": null,
      "outputs": [
        {
          "output_type": "stream",
          "name": "stdout",
          "text": [
            "Epoch 1/10\n"
          ]
        },
        {
          "output_type": "stream",
          "name": "stderr",
          "text": [
            "/usr/local/lib/python3.10/dist-packages/tensorflow/python/util/dispatch.py:1176: SyntaxWarning: In loss categorical_crossentropy, expected y_pred.shape to be (batch_size, num_classes) with num_classes > 1. Received: y_pred.shape=(None, 1). Consider using 'binary_crossentropy' if you only have 2 classes.\n",
            "  return dispatch_target(*args, **kwargs)\n"
          ]
        },
        {
          "output_type": "stream",
          "name": "stdout",
          "text": [
            "207/207 [==============================] - 11s 26ms/step - loss: 3.9616e-08 - accuracy: 0.6677 - val_loss: 3.3268e-08 - val_accuracy: 0.7209\n",
            "Epoch 2/10\n",
            "207/207 [==============================] - 6s 29ms/step - loss: 3.9616e-08 - accuracy: 0.6677 - val_loss: 3.3268e-08 - val_accuracy: 0.7209\n",
            "Epoch 3/10\n",
            "207/207 [==============================] - 5s 22ms/step - loss: 3.9616e-08 - accuracy: 0.6677 - val_loss: 3.3268e-08 - val_accuracy: 0.7209\n",
            "Epoch 4/10\n",
            "207/207 [==============================] - 5s 22ms/step - loss: 3.9616e-08 - accuracy: 0.6677 - val_loss: 3.3268e-08 - val_accuracy: 0.7209\n",
            "Epoch 5/10\n",
            "207/207 [==============================] - 6s 28ms/step - loss: 3.9616e-08 - accuracy: 0.6677 - val_loss: 3.3268e-08 - val_accuracy: 0.7209\n",
            "Epoch 6/10\n",
            "207/207 [==============================] - 5s 23ms/step - loss: 3.9616e-08 - accuracy: 0.6677 - val_loss: 3.3268e-08 - val_accuracy: 0.7209\n",
            "Epoch 7/10\n",
            "207/207 [==============================] - 6s 29ms/step - loss: 3.9616e-08 - accuracy: 0.6677 - val_loss: 3.3268e-08 - val_accuracy: 0.7209\n",
            "Epoch 8/10\n",
            "207/207 [==============================] - 5s 23ms/step - loss: 3.9616e-08 - accuracy: 0.6677 - val_loss: 3.3268e-08 - val_accuracy: 0.7209\n",
            "Epoch 9/10\n",
            "207/207 [==============================] - 5s 22ms/step - loss: 3.9616e-08 - accuracy: 0.6677 - val_loss: 3.3268e-08 - val_accuracy: 0.7209\n",
            "Epoch 10/10\n",
            "207/207 [==============================] - 6s 29ms/step - loss: 3.9616e-08 - accuracy: 0.6677 - val_loss: 3.3268e-08 - val_accuracy: 0.7209\n"
          ]
        },
        {
          "output_type": "execute_result",
          "data": {
            "text/plain": [
              "<keras.callbacks.History at 0x7f777039df60>"
            ]
          },
          "metadata": {},
          "execution_count": 27
        }
      ]
    },
    {
      "cell_type": "markdown",
      "source": [
        "Testing Bidirectional GRU model and finding Accuracy for **Task A**"
      ],
      "metadata": {
        "id": "fZZ6zNZYPieK"
      }
    },
    {
      "cell_type": "code",
      "source": [
        "y_pred3=bi_gru.predict(X_a_test)\n",
        "import numpy as np\n",
        "from sklearn.metrics import accuracy_score\n",
        "\n",
        "continuous=[]\n",
        "def sigmoid(x):\n",
        "    return 1 / (1 + np.exp(-x))\n",
        "\n",
        "def map_to_binary_between_minus_one_and_one(value):\n",
        "    mapped_value = sigmoid(value)\n",
        "    return round(mapped_value)\n",
        "\n",
        "for i in y_pred3:\n",
        "    for j in i:\n",
        "        continuous.append(j)\n",
        "\n",
        "\n",
        "binary = [map_to_binary_between_minus_one_and_one(value) for value in continuous]\n",
        "\n",
        "accuracy = accuracy_score(y_a_test, binary)\n",
        "print(\"Accuracy:\", accuracy)"
      ],
      "metadata": {
        "colab": {
          "base_uri": "https://localhost:8080/"
        },
        "id": "aDBc1XRGG2UW",
        "outputId": "2102f219-5854-4d7b-a3a6-26556c284d4f"
      },
      "execution_count": null,
      "outputs": [
        {
          "output_type": "stream",
          "name": "stdout",
          "text": [
            "27/27 [==============================] - 2s 14ms/step\n",
            "Accuracy: 0.672093023255814\n"
          ]
        }
      ]
    },
    {
      "cell_type": "code",
      "source": [],
      "metadata": {
        "id": "UcfHHTJ05AS_"
      },
      "execution_count": null,
      "outputs": []
    },
    {
      "cell_type": "markdown",
      "source": [
        "Creating Confusion Matrix and finding Precision, Recall, F1 & F2 Score on **Task A** by Bidirectional GRU model"
      ],
      "metadata": {
        "id": "gR7I1Rn2PswO"
      }
    },
    {
      "cell_type": "code",
      "source": [
        "import numpy as np\n",
        "import matplotlib.pyplot as plt\n",
        "import seaborn as sns\n",
        "from sklearn.metrics import confusion_matrix\n",
        "\n",
        "from sklearn.metrics import f1_score, fbeta_score\n",
        "\n",
        "from sklearn.ensemble import RandomForestClassifier\n",
        "from sklearn.model_selection import train_test_split\n",
        "\n",
        "cm = confusion_matrix(y_a_test, binary)\n",
        "\n",
        "plt.figure(figsize=(6, 6))\n",
        "sns.heatmap(cm, annot=True, fmt=\"d\", cmap=\"Blues\",\n",
        "            xticklabels=[\"Predicted Negative\", \"Predicted Positive\"],\n",
        "            yticklabels=[\"True Negative\", \"True Positive\"])\n",
        "plt.xlabel(\"Predicted\")\n",
        "plt.ylabel(\"True\")\n",
        "plt.title(\"Confusion Matrix for Bidirectional GRU\")\n",
        "plt.show()\n",
        "\n",
        "from sklearn.metrics import precision_score, recall_score\n",
        "\n",
        "precision = precision_score(y_a_test, binary)\n",
        "recall = recall_score(y_a_test, binary)\n",
        "\n",
        "print(\"Precision:\", precision)\n",
        "print(\"Recall:\", recall)\n",
        "\n",
        "clf = RandomForestClassifier(n_estimators=100, random_state=42)\n",
        "clf.fit(X_a_train, y_a_train)\n",
        "\n",
        "y_pred = clf.predict(X_a_test)\n",
        "\n",
        "f1 = f1_score(y_a_test, binary)\n",
        "\n",
        "f2 = fbeta_score(y_a_test, binary, beta=2)\n",
        "\n",
        "print(f\"F1 Score: {f1:.4f}\")\n",
        "print(f\"F2 Score: {f2:.4f}\")"
      ],
      "metadata": {
        "colab": {
          "base_uri": "https://localhost:8080/",
          "height": 633
        },
        "outputId": "4dcb08ff-2ebd-4209-e01a-1e29be907f02",
        "id": "joZIbL6m5HJN"
      },
      "execution_count": null,
      "outputs": [
        {
          "output_type": "display_data",
          "data": {
            "text/plain": [
              "<Figure size 600x600 with 2 Axes>"
            ],
            "image/png": "[encoded data removed]"
          },
          "metadata": {}
        },
        {
          "output_type": "stream",
          "name": "stdout",
          "text": [
            "Precision: 0.325\n",
            "Recall: 0.1625\n",
            "F1 Score: 0.2167\n",
            "F2 Score: 0.1806\n"
          ]
        }
      ]
    },
    {
      "cell_type": "code",
      "source": [],
      "metadata": {
        "id": "GuLRlnWoz6Xj"
      },
      "execution_count": null,
      "outputs": []
    },
    {
      "cell_type": "code",
      "source": [
        "X_b_train = df_main['tweet']\n",
        "X_b_train = X_b_train[df_main['subtask_b'].notnull()]\n",
        "#X_b.head()\n",
        "print(len(X_b_train))\n",
        "y_b_train = df_main['subtask_b']\n",
        "y_b_train = y_b_train[df_main['subtask_b'].notnull()]\n",
        "y_b_train = enc.fit_transform(y_b_train)\n",
        "y_b_train"
      ],
      "metadata": {
        "colab": {
          "base_uri": "https://localhost:8080/"
        },
        "id": "KOHGbJkvz7nv",
        "outputId": "dd084ad2-2b1e-4d89-f920-6e61ed6de996"
      },
      "execution_count": null,
      "outputs": [
        {
          "output_type": "stream",
          "name": "stdout",
          "text": [
            "4400\n"
          ]
        },
        {
          "output_type": "execute_result",
          "data": {
            "text/plain": [
              "array([1, 0, 1, ..., 0, 0, 1])"
            ]
          },
          "metadata": {},
          "execution_count": 30
        }
      ]
    },
    {
      "cell_type": "markdown",
      "source": [
        "Preparing Testing data for **Task B**"
      ],
      "metadata": {
        "id": "0CxfqKtqQOSf"
      }
    },
    {
      "cell_type": "code",
      "source": [
        "import pandas as pd\n",
        "df = pd.read_csv('testset-levelb.tsv', sep='\\t')\n",
        "df=df.dropna()\n",
        "X_b_test=df['tweet']\n",
        "y_b = pd.read_csv(\"labels-levelb.csv\", header = None)\n",
        "\n",
        "y_b.drop(y_b.columns[[0]], axis=1, inplace=True)\n",
        "from nltk.stem.porter import PorterStemmer\n",
        "ps = PorterStemmer()\n",
        "corpus3 = []\n",
        "arr3 = X_b_test.to_numpy()\n",
        "\n",
        "for i in range(0, len(arr3)):\n",
        "    review = re.sub('[^a-zA-Z]', ' ', arr3[i])\n",
        "    review = review.lower()\n",
        "    review = review.split()\n",
        "\n",
        "    review = [ps.stem(word) for word in review if not word in stopwords.words('english')]\n",
        "    review = ' '.join(review)\n",
        "    corpus3.append(review)\n",
        "onehot_repr3=[one_hot(words,voc_size)for words in corpus3]\n",
        "sent_length=20\n",
        "embedded_docs3=pad_sequences(onehot_repr3,padding='pre',maxlen=sent_length)\n",
        "import numpy as np\n",
        "X_b_test=np.array(embedded_docs3)\n",
        "y_b_test=np.array(y_b)\n",
        "y_b_test = enc.fit_transform(y_b_test)\n",
        "print(y_b_test)"
      ],
      "metadata": {
        "colab": {
          "base_uri": "https://localhost:8080/"
        },
        "id": "yUxbYFhB06Vh",
        "outputId": "e52ac3a5-b62f-44dc-bb53-31979e3009a3"
      },
      "execution_count": null,
      "outputs": [
        {
          "output_type": "stream",
          "name": "stdout",
          "text": [
            "[0 0 0 0 1 0 0 0 0 0 0 1 0 0 1 0 0 0 0 0 1 0 0 0 0 0 0 0 0 0 0 0 0 0 0 0 0\n",
            " 0 0 0 0 0 0 0 0 0 0 1 0 0 0 0 0 0 0 0 0 1 0 0 0 0 1 0 0 0 0 0 0 0 0 0 0 0\n",
            " 0 0 0 0 0 1 0 0 0 0 0 0 0 0 0 1 0 0 0 0 0 0 0 0 0 0 0 0 0 0 0 0 1 0 0 1 0\n",
            " 0 0 1 1 0 0 0 0 1 0 0 0 0 0 0 1 0 0 0 0 0 0 1 0 1 0 0 1 0 0 0 0 0 0 1 0 0\n",
            " 0 0 0 1 0 0 0 0 0 1 0 0 0 0 0 0 0 0 0 0 0 0 0 0 0 0 1 0 1 0 0 0 0 0 0 1 0\n",
            " 0 0 0 0 0 0 0 0 0 0 0 0 0 0 0 0 0 0 0 0 0 0 0 1 0 0 0 0 0 0 0 0 0 0 0 0 0\n",
            " 0 0 1 0 0 0 0 0 0 0 0 0 0 0 0 0 0 1]\n"
          ]
        },
        {
          "output_type": "stream",
          "name": "stderr",
          "text": [
            "/usr/local/lib/python3.10/dist-packages/sklearn/preprocessing/_label.py:116: DataConversionWarning: A column-vector y was passed when a 1d array was expected. Please change the shape of y to (n_samples, ), for example using ravel().\n",
            "  y = column_or_1d(y, warn=True)\n"
          ]
        }
      ]
    },
    {
      "cell_type": "code",
      "source": [
        "import nltk\n",
        "nltk.download('punkt')\n",
        "from nltk.tokenize import word_tokenize\n",
        "count=0\n",
        "length=[]\n",
        "for i in corpus3:\n",
        "    length.append(len(i))\n",
        "print(max(length))\n",
        "print(min(length))\n",
        "sum=0\n",
        "for i in length:\n",
        "    sum+=i\n",
        "print(\"average\",round(sum/len(length)))"
      ],
      "metadata": {
        "colab": {
          "base_uri": "https://localhost:8080/"
        },
        "id": "P5myLDsk_qc3",
        "outputId": "86a9a094-0951-418b-a32a-74b978ab8629"
      },
      "execution_count": null,
      "outputs": [
        {
          "output_type": "stream",
          "name": "stdout",
          "text": [
            "220\n",
            "7\n",
            "average 84\n"
          ]
        },
        {
          "output_type": "stream",
          "name": "stderr",
          "text": [
            "[nltk_data] Downloading package punkt to /root/nltk_data...\n",
            "[nltk_data]   Package punkt is already up-to-date!\n"
          ]
        }
      ]
    },
    {
      "cell_type": "code",
      "source": [],
      "metadata": {
        "id": "UIZhjQdyAGFK"
      },
      "execution_count": null,
      "outputs": []
    },
    {
      "cell_type": "markdown",
      "source": [
        "Counting Targeted & Untargeted Labels on testing data"
      ],
      "metadata": {
        "id": "YbHX7MUbQeqr"
      }
    },
    {
      "cell_type": "code",
      "source": [
        "yes_count = 0\n",
        "no_count = 0\n",
        "for i in y_b_test:\n",
        "    if i==0:\n",
        "        yes_count+=1\n",
        "    else:\n",
        "        no_count+=1\n",
        "\n",
        "print(f'Count of \"Targeted\": {yes_count}')\n",
        "print(f'Count of \"Untargeted\": {no_count}')\n",
        "\n",
        "import matplotlib.pyplot as plt\n",
        "\n",
        "labels = [\"Targeted\",\"Untargeted\"]\n",
        "counts = [yes_count, no_count]\n",
        "\n",
        "plt.figure(figsize=(10, 6))\n",
        "plt.bar(labels, counts, color='blue')\n",
        "\n",
        "plt.xlabel('Labels')\n",
        "plt.ylabel('Counts')\n",
        "plt.title('Distribution of Targeted and Untargeted')\n",
        "\n",
        "\n",
        "for i, value in enumerate(counts):\n",
        "    plt.text(i, value + 0.01, f'{value:.2f}', ha='center')\n",
        "\n",
        "plt.tight_layout()\n",
        "plt.show()"
      ],
      "metadata": {
        "colab": {
          "base_uri": "https://localhost:8080/",
          "height": 642
        },
        "id": "lclXrHXjXnY-",
        "outputId": "bf4fd2a7-26f7-4f25-d76a-69ed69bd07fa"
      },
      "execution_count": null,
      "outputs": [
        {
          "output_type": "stream",
          "name": "stdout",
          "text": [
            "Count of \"Targeted\": 213\n",
            "Count of \"Untargeted\": 27\n"
          ]
        },
        {
          "output_type": "display_data",
          "data": {
            "text/plain": [
              "<Figure size 1000x600 with 1 Axes>"
            ],
            "image/png": "[encoded data removed]"
          },
          "metadata": {}
        }
      ]
    },
    {
      "cell_type": "code",
      "source": [
        "from nltk.stem.porter import PorterStemmer\n",
        "ps = PorterStemmer()\n",
        "corpusb = []\n",
        "arrb = X_b_train.to_numpy()\n",
        "\n",
        "for i in range(0, len(arrb)):\n",
        "    review = re.sub('[^a-zA-Z]', ' ', arrb[i])\n",
        "    review = review.lower()\n",
        "    review = review.split()\n",
        "\n",
        "    review = [ps.stem(word) for word in review if not word in stopwords.words('english')]\n",
        "    review = ' '.join(review)\n",
        "    corpusb.append(review)"
      ],
      "metadata": {
        "id": "5upieWmP4-M9"
      },
      "execution_count": null,
      "outputs": []
    },
    {
      "cell_type": "code",
      "source": [
        "#corpusb"
      ],
      "metadata": {
        "id": "q4id_3dn5Kty"
      },
      "execution_count": null,
      "outputs": []
    },
    {
      "cell_type": "code",
      "source": [
        "from tensorflow.keras.preprocessing.text import one_hot\n",
        "\n",
        "voc_size=5000\n",
        "onehot_repr_b=[one_hot(words,voc_size)for words in corpusb]\n",
        "#onehot_repr_b"
      ],
      "metadata": {
        "id": "i3OyXcca5THj"
      },
      "execution_count": null,
      "outputs": []
    },
    {
      "cell_type": "code",
      "source": [
        "from tensorflow.keras.preprocessing.sequence import pad_sequences\n",
        "sent_length=20\n",
        "embedded_docs_b=pad_sequences(onehot_repr_b,padding='pre',maxlen=sent_length)\n",
        "print(len(embedded_docs_b))\n",
        "X_b_train=np.array(embedded_docs_b)\n",
        "print(X_b_train)"
      ],
      "metadata": {
        "colab": {
          "base_uri": "https://localhost:8080/"
        },
        "id": "2Z6oQv7d5ZQC",
        "outputId": "aa93a0a5-35c5-4508-877f-0dfad8480b1f"
      },
      "execution_count": null,
      "outputs": [
        {
          "output_type": "stream",
          "name": "stdout",
          "text": [
            "4400\n",
            "[[   0    0    0 ...  221 4350  133]\n",
            " [   0    0    0 ... 4424  429  420]\n",
            " [   0    0    0 ... 2180 1369 3318]\n",
            " ...\n",
            " [   0    0    0 ... 1519 2967 1109]\n",
            " [   0    0    0 ... 2926  125 4709]\n",
            " [   0    0    0 ...    0 2354 2080]]\n"
          ]
        }
      ]
    },
    {
      "cell_type": "code",
      "source": [
        "#X_b_train=np.array(embedded_docs3)\n",
        "print(len(y_b_test))\n",
        "print(len(y_b_train))\n",
        "print(len(X_b_train))\n",
        "print(len(X_b_test))"
      ],
      "metadata": {
        "id": "XBF1UUvM5yui",
        "colab": {
          "base_uri": "https://localhost:8080/"
        },
        "outputId": "f83ce34f-f547-4dcd-95e2-7431c16b7f1f"
      },
      "execution_count": null,
      "outputs": [
        {
          "output_type": "stream",
          "name": "stdout",
          "text": [
            "240\n",
            "4400\n",
            "4400\n",
            "240\n"
          ]
        }
      ]
    },
    {
      "cell_type": "markdown",
      "source": [
        "Training Unidirectional LSTM model for **Task B**"
      ],
      "metadata": {
        "id": "kv7im--UQ2Ll"
      }
    },
    {
      "cell_type": "code",
      "source": [
        "uni_lstm.fit(X_b_train,y_b_train,validation_data=(X_b_test,y_b_test),epochs=10,batch_size=64)"
      ],
      "metadata": {
        "colab": {
          "base_uri": "https://localhost:8080/"
        },
        "id": "x3O8BtyUPrDb",
        "outputId": "1ecd7597-22be-47bc-c22d-778890233042"
      },
      "execution_count": null,
      "outputs": [
        {
          "output_type": "stream",
          "name": "stdout",
          "text": [
            "Epoch 1/10\n",
            "69/69 [==============================] - 1s 18ms/step - loss: 1.3456 - accuracy: 0.7850 - val_loss: 1.3917 - val_accuracy: 0.8667\n",
            "Epoch 2/10\n",
            "69/69 [==============================] - 1s 17ms/step - loss: 0.8451 - accuracy: 0.8509 - val_loss: 0.9330 - val_accuracy: 0.8542\n",
            "Epoch 3/10\n",
            "69/69 [==============================] - 1s 17ms/step - loss: 0.6394 - accuracy: 0.8880 - val_loss: 0.9075 - val_accuracy: 0.8667\n",
            "Epoch 4/10\n",
            "69/69 [==============================] - 1s 16ms/step - loss: 0.5757 - accuracy: 0.8977 - val_loss: 0.9475 - val_accuracy: 0.8750\n",
            "Epoch 5/10\n",
            "69/69 [==============================] - 1s 17ms/step - loss: 0.5437 - accuracy: 0.9020 - val_loss: 0.9903 - val_accuracy: 0.8792\n",
            "Epoch 6/10\n",
            "69/69 [==============================] - 1s 16ms/step - loss: 0.5184 - accuracy: 0.9109 - val_loss: 0.9918 - val_accuracy: 0.8792\n",
            "Epoch 7/10\n",
            "69/69 [==============================] - 2s 25ms/step - loss: 0.5007 - accuracy: 0.9145 - val_loss: 0.9957 - val_accuracy: 0.8750\n",
            "Epoch 8/10\n",
            "69/69 [==============================] - 2s 23ms/step - loss: 0.4885 - accuracy: 0.9225 - val_loss: 0.9943 - val_accuracy: 0.8750\n",
            "Epoch 9/10\n",
            "69/69 [==============================] - 1s 17ms/step - loss: 0.4768 - accuracy: 0.9325 - val_loss: 0.8797 - val_accuracy: 0.8667\n",
            "Epoch 10/10\n",
            "69/69 [==============================] - 1s 17ms/step - loss: 0.4658 - accuracy: 0.9380 - val_loss: 0.9369 - val_accuracy: 0.8708\n"
          ]
        },
        {
          "output_type": "execute_result",
          "data": {
            "text/plain": [
              "<keras.callbacks.History at 0x7f7771498b20>"
            ]
          },
          "metadata": {},
          "execution_count": 39
        }
      ]
    },
    {
      "cell_type": "markdown",
      "source": [
        "Training Bidirectional LSTM model for **Task B**"
      ],
      "metadata": {
        "id": "JO21h_veRPQg"
      }
    },
    {
      "cell_type": "code",
      "source": [
        "bi_lstm.fit(X_b_train,y_b_train,validation_data=(X_b_test,y_b_test),epochs=10,batch_size=64)"
      ],
      "metadata": {
        "colab": {
          "base_uri": "https://localhost:8080/"
        },
        "id": "rHl0CSZ03Luy",
        "outputId": "63425c26-0e6a-4097-a401-eadd39183add"
      },
      "execution_count": null,
      "outputs": [
        {
          "output_type": "stream",
          "name": "stdout",
          "text": [
            "Epoch 1/10\n",
            "69/69 [==============================] - 3s 47ms/step - loss: 0.8834 - accuracy: 0.7059 - val_loss: 0.8855 - val_accuracy: 0.8208\n",
            "Epoch 2/10\n",
            "69/69 [==============================] - 1s 21ms/step - loss: 0.5215 - accuracy: 0.8248 - val_loss: 0.5210 - val_accuracy: 0.8500\n",
            "Epoch 3/10\n",
            "69/69 [==============================] - 1s 21ms/step - loss: 0.4426 - accuracy: 0.8761 - val_loss: 0.5138 - val_accuracy: 0.8625\n",
            "Epoch 4/10\n",
            "69/69 [==============================] - 1s 20ms/step - loss: 0.3775 - accuracy: 0.8839 - val_loss: 0.5418 - val_accuracy: 0.8750\n",
            "Epoch 5/10\n",
            "69/69 [==============================] - 1s 21ms/step - loss: 0.3633 - accuracy: 0.8930 - val_loss: 0.5596 - val_accuracy: 0.8875\n",
            "Epoch 6/10\n",
            "69/69 [==============================] - 1s 21ms/step - loss: 0.3263 - accuracy: 0.8980 - val_loss: 0.6552 - val_accuracy: 0.8875\n",
            "Epoch 7/10\n",
            "69/69 [==============================] - 1s 21ms/step - loss: 0.3427 - accuracy: 0.9000 - val_loss: 0.7454 - val_accuracy: 0.8875\n",
            "Epoch 8/10\n",
            "69/69 [==============================] - 2s 36ms/step - loss: 0.2968 - accuracy: 0.9080 - val_loss: 0.6509 - val_accuracy: 0.8833\n",
            "Epoch 9/10\n",
            "69/69 [==============================] - 2s 24ms/step - loss: 0.2729 - accuracy: 0.9145 - val_loss: 0.7966 - val_accuracy: 0.8833\n",
            "Epoch 10/10\n",
            "69/69 [==============================] - 1s 21ms/step - loss: 0.2557 - accuracy: 0.9214 - val_loss: 0.8378 - val_accuracy: 0.8833\n"
          ]
        },
        {
          "output_type": "execute_result",
          "data": {
            "text/plain": [
              "<keras.callbacks.History at 0x7f77714e48e0>"
            ]
          },
          "metadata": {},
          "execution_count": 40
        }
      ]
    },
    {
      "cell_type": "markdown",
      "source": [
        "Training Bidirectional GRU model for **Task B**"
      ],
      "metadata": {
        "id": "JzyyUkDJRTyy"
      }
    },
    {
      "cell_type": "code",
      "source": [
        "bi_gru.fit(X_b_train, y_b_train, validation_data=(X_b_test,y_b_test), epochs=10 , batch_size=64)"
      ],
      "metadata": {
        "colab": {
          "base_uri": "https://localhost:8080/"
        },
        "id": "R3XlxnAvM6b-",
        "outputId": "bf0aeeba-d995-4a6c-f400-d9af3f1c1879"
      },
      "execution_count": null,
      "outputs": [
        {
          "output_type": "stream",
          "name": "stdout",
          "text": [
            "Epoch 1/10\n",
            "69/69 [==============================] - 2s 23ms/step - loss: 1.4197e-08 - accuracy: 0.8809 - val_loss: 1.3411e-08 - val_accuracy: 0.8875\n",
            "Epoch 2/10\n",
            "69/69 [==============================] - 2s 23ms/step - loss: 1.4197e-08 - accuracy: 0.8809 - val_loss: 1.3411e-08 - val_accuracy: 0.8875\n",
            "Epoch 3/10\n",
            "69/69 [==============================] - 1s 22ms/step - loss: 1.4197e-08 - accuracy: 0.8809 - val_loss: 1.3411e-08 - val_accuracy: 0.8875\n",
            "Epoch 4/10\n",
            "69/69 [==============================] - 1s 21ms/step - loss: 1.4197e-08 - accuracy: 0.8809 - val_loss: 1.3411e-08 - val_accuracy: 0.8875\n",
            "Epoch 5/10\n",
            "69/69 [==============================] - 2s 25ms/step - loss: 1.4197e-08 - accuracy: 0.8809 - val_loss: 1.3411e-08 - val_accuracy: 0.8875\n",
            "Epoch 6/10\n",
            "69/69 [==============================] - 2s 36ms/step - loss: 1.4197e-08 - accuracy: 0.8809 - val_loss: 1.3411e-08 - val_accuracy: 0.8875\n",
            "Epoch 7/10\n",
            "69/69 [==============================] - 2s 22ms/step - loss: 1.4197e-08 - accuracy: 0.8809 - val_loss: 1.3411e-08 - val_accuracy: 0.8875\n",
            "Epoch 8/10\n",
            "69/69 [==============================] - 1s 22ms/step - loss: 1.4197e-08 - accuracy: 0.8809 - val_loss: 1.3411e-08 - val_accuracy: 0.8875\n",
            "Epoch 9/10\n",
            "69/69 [==============================] - 1s 22ms/step - loss: 1.4197e-08 - accuracy: 0.8809 - val_loss: 1.3411e-08 - val_accuracy: 0.8875\n",
            "Epoch 10/10\n",
            "69/69 [==============================] - 2s 22ms/step - loss: 1.4197e-08 - accuracy: 0.8809 - val_loss: 1.3411e-08 - val_accuracy: 0.8875\n"
          ]
        },
        {
          "output_type": "execute_result",
          "data": {
            "text/plain": [
              "<keras.callbacks.History at 0x7f776e01a080>"
            ]
          },
          "metadata": {},
          "execution_count": 41
        }
      ]
    },
    {
      "cell_type": "markdown",
      "source": [
        "Testing Unidirectional LSTM model and finding Accuracy for **Task B**"
      ],
      "metadata": {
        "id": "cRPMCvSRTPoU"
      }
    },
    {
      "cell_type": "code",
      "source": [
        "y_pred_1=uni_lstm.predict(X_b_test)\n",
        "import numpy as np\n",
        "\n",
        "\n",
        "from sklearn.metrics import accuracy_score\n",
        "\n",
        "data1=[]\n",
        "def sigmoid(x):\n",
        "    return 1 / (1 + np.exp(-x))\n",
        "\n",
        "def map_to_binary_between_minus_one_and_one(value):\n",
        "    mapped_value = sigmoid(value)\n",
        "    return round(mapped_value)\n",
        "\n",
        "for i in y_pred_1:\n",
        "    for j in i:\n",
        "        data1.append(j)\n",
        "\n",
        "\n",
        "binary_data2 = [map_to_binary_between_minus_one_and_one(value) for value in data1]\n",
        "\n",
        "accuracy = accuracy_score(y_b_test, binary_data2)\n",
        "print(\"Accuracy:\", accuracy)"
      ],
      "metadata": {
        "colab": {
          "base_uri": "https://localhost:8080/"
        },
        "id": "uc7GUFRJYmJU",
        "outputId": "48aebe77-f8ff-45d2-a64c-46add8e7b734"
      },
      "execution_count": null,
      "outputs": [
        {
          "output_type": "stream",
          "name": "stdout",
          "text": [
            "8/8 [==============================] - 0s 5ms/step\n",
            "Accuracy: 0.7625\n"
          ]
        }
      ]
    },
    {
      "cell_type": "code",
      "source": [],
      "metadata": {
        "id": "D2oA7xGLZh_k"
      },
      "execution_count": null,
      "outputs": []
    },
    {
      "cell_type": "markdown",
      "source": [
        "Creating Confusion Matrix and finding Precision, Recall, F1 & F2 Score on **Task B** by Unidirectional LSTM model"
      ],
      "metadata": {
        "id": "zyLziYEAT9E5"
      }
    },
    {
      "cell_type": "code",
      "source": [
        "\n",
        "import numpy as np\n",
        "import matplotlib.pyplot as plt\n",
        "import seaborn as sns\n",
        "from sklearn.metrics import confusion_matrix\n",
        "\n",
        "cm = confusion_matrix(y_b_test, binary_data2)\n",
        "\n",
        "plt.figure(figsize=(6, 6))\n",
        "sns.heatmap(cm, annot=True, fmt=\"d\", cmap=\"Blues\",\n",
        "            xticklabels=[\"Predicted Negative\", \"Predicted Positive\"],\n",
        "            yticklabels=[\"True Negative\", \"True Positive\"])\n",
        "plt.xlabel(\"Predicted\")\n",
        "plt.ylabel(\"True\")\n",
        "plt.title(\"Confusion Matrix for Unidirectional LSTM\")\n",
        "plt.show()\n",
        "\n",
        "from sklearn.metrics import precision_score, recall_score\n",
        "\n",
        "precision = precision_score(y_b_test, binary_data2)\n",
        "recall = recall_score(y_b_test, binary_data2)\n",
        "\n",
        "print(\"Precision:\", precision)\n",
        "print(\"Recall:\", recall)\n",
        "\n",
        "from sklearn.metrics import f1_score, fbeta_score\n",
        "from sklearn.datasets import load_iris\n",
        "from sklearn.ensemble import RandomForestClassifier\n",
        "from sklearn.model_selection import train_test_split\n",
        "\n",
        "\n",
        "\n",
        "clf = RandomForestClassifier(n_estimators=100, random_state=42)\n",
        "clf.fit(X_b_train, y_b_train)\n",
        "\n",
        "y_pred = clf.predict(X_b_test)\n",
        "\n",
        "f1 = f1_score(y_b_test, binary_data2)\n",
        "\n",
        "f2 = fbeta_score(y_b_test, binary_data2, beta=2)\n",
        "\n",
        "print(f\"F1 Score: {f1:.4f}\")\n",
        "print(f\"F2 Score: {f2:.4f}\")\n"
      ],
      "metadata": {
        "colab": {
          "base_uri": "https://localhost:8080/",
          "height": 633
        },
        "outputId": "9bc87942-7f86-4726-9d4a-8da80db1dbb4",
        "id": "KNa_TIKOZiYn"
      },
      "execution_count": null,
      "outputs": [
        {
          "output_type": "display_data",
          "data": {
            "text/plain": [
              "<Figure size 600x600 with 2 Axes>"
            ],
            "image/png": "[encoded data removed]"
          },
          "metadata": {}
        },
        {
          "output_type": "stream",
          "name": "stdout",
          "text": [
            "Precision: 0.25\n",
            "Recall: 0.5555555555555556\n",
            "F1 Score: 0.3448\n",
            "F2 Score: 0.4464\n"
          ]
        }
      ]
    },
    {
      "cell_type": "markdown",
      "source": [
        "Testing Bidirectional LSTM model and finding Accuracy for **Task B**"
      ],
      "metadata": {
        "id": "zjL8RsWeTh36"
      }
    },
    {
      "cell_type": "code",
      "source": [
        "y_pred_2=bi_lstm.predict(X_b_test)\n",
        "import numpy as np\n",
        "\n",
        "\n",
        "from sklearn.metrics import accuracy_score\n",
        "\n",
        "data3=[]\n",
        "def sigmoid(x):\n",
        "    return 1 / (1 + np.exp(-x))\n",
        "\n",
        "def map_to_binary_between_minus_one_and_one(value):\n",
        "    mapped_value = sigmoid(value)\n",
        "    return round(mapped_value)\n",
        "\n",
        "for i in y_pred_2:\n",
        "    for j in i:\n",
        "        data3.append(j)\n",
        "\n",
        "\n",
        "binary_data3 = [map_to_binary_between_minus_one_and_one(value) for value in data3]\n",
        "\n",
        "accuracy = accuracy_score(y_b_test, binary_data3)\n",
        "print(\"Accuracy:\", accuracy)"
      ],
      "metadata": {
        "colab": {
          "base_uri": "https://localhost:8080/"
        },
        "id": "GsOskJ_sZ_UA",
        "outputId": "00d009ad-74b4-4369-e66b-56689b038682"
      },
      "execution_count": null,
      "outputs": [
        {
          "output_type": "stream",
          "name": "stdout",
          "text": [
            "8/8 [==============================] - 0s 5ms/step\n",
            "Accuracy: 0.6291666666666667\n"
          ]
        }
      ]
    },
    {
      "cell_type": "markdown",
      "source": [
        "Creating Confusion Matrix and finding Precision, Recall, F1 & F2 Score on **Task B** by Biidirectional LSTM model"
      ],
      "metadata": {
        "id": "dQDSW7B6UG89"
      }
    },
    {
      "cell_type": "code",
      "source": [
        "\n",
        "import numpy as np\n",
        "import matplotlib.pyplot as plt\n",
        "import seaborn as sns\n",
        "from sklearn.metrics import confusion_matrix\n",
        "\n",
        "cm = confusion_matrix(y_b_test, binary_data3)\n",
        "\n",
        "plt.figure(figsize=(6, 6))\n",
        "sns.heatmap(cm, annot=True, fmt=\"d\", cmap=\"Blues\",\n",
        "            xticklabels=[\"Predicted Negative\", \"Predicted Positive\"],\n",
        "            yticklabels=[\"True Negative\", \"True Positive\"])\n",
        "plt.xlabel(\"Predicted\")\n",
        "plt.ylabel(\"True\")\n",
        "plt.title(\"Confusion Matrix for Bidirectional LSTM\")\n",
        "plt.show()\n",
        "\n",
        "from sklearn.metrics import precision_score, recall_score\n",
        "\n",
        "precision = precision_score(y_b_test, binary_data3)\n",
        "recall = recall_score(y_b_test, binary_data3)\n",
        "\n",
        "print(\"Precision:\", precision)\n",
        "print(\"Recall:\", recall)\n",
        "\n",
        "from sklearn.metrics import f1_score, fbeta_score\n",
        "from sklearn.datasets import load_iris\n",
        "from sklearn.ensemble import RandomForestClassifier\n",
        "from sklearn.model_selection import train_test_split\n",
        "\n",
        "\n",
        "\n",
        "clf = RandomForestClassifier(n_estimators=100, random_state=42)\n",
        "clf.fit(X_b_train, y_b_train)\n",
        "\n",
        "y_pred = clf.predict(X_b_test)\n",
        "\n",
        "f1 = f1_score(y_b_test, binary_data3)\n",
        "\n",
        "f2 = fbeta_score(y_b_test, binary_data3, beta=2)\n",
        "\n",
        "print(f\"F1 Score: {f1:.4f}\")\n",
        "print(f\"F2 Score: {f2:.4f}\")\n"
      ],
      "metadata": {
        "colab": {
          "base_uri": "https://localhost:8080/",
          "height": 633
        },
        "id": "PMOm__SPalGh",
        "outputId": "843186ec-3084-4725-d2ed-e853cbd3e0b0"
      },
      "execution_count": null,
      "outputs": [
        {
          "output_type": "display_data",
          "data": {
            "text/plain": [
              "<Figure size 600x600 with 2 Axes>"
            ],
            "image/png": "[encoded data removed]"
          },
          "metadata": {}
        },
        {
          "output_type": "stream",
          "name": "stdout",
          "text": [
            "Precision: 0.17708333333333334\n",
            "Recall: 0.6296296296296297\n",
            "F1 Score: 0.2764\n",
            "F2 Score: 0.4167\n"
          ]
        }
      ]
    },
    {
      "cell_type": "markdown",
      "source": [
        "Testing Bidirectional GRU model and finding Accuracy for **Task B**"
      ],
      "metadata": {
        "id": "qhGrzJ5TTnUI"
      }
    },
    {
      "cell_type": "code",
      "source": [
        "y_pred_3=bi_gru.predict(X_b_test)\n",
        "import numpy as np\n",
        "\n",
        "\n",
        "from sklearn.metrics import accuracy_score\n",
        "\n",
        "data4=[]\n",
        "def sigmoid(x):\n",
        "    return 1 / (1 + np.exp(-x))\n",
        "\n",
        "def map_to_binary_between_minus_one_and_one(value):\n",
        "    mapped_value = sigmoid(value)\n",
        "    return round(mapped_value)\n",
        "\n",
        "for i in y_pred_3:\n",
        "    for j in i:\n",
        "        data4.append(j)\n",
        "\n",
        "\n",
        "binary_data4 = [map_to_binary_between_minus_one_and_one(value) for value in data4]\n",
        "\n",
        "accuracy = accuracy_score(y_b_test, binary_data4)\n",
        "print(\"Accuracy:\", accuracy)"
      ],
      "metadata": {
        "colab": {
          "base_uri": "https://localhost:8080/"
        },
        "id": "sJFoW_4Xa_BH",
        "outputId": "77b89a23-ddd9-4467-a3d1-affe224b347b"
      },
      "execution_count": null,
      "outputs": [
        {
          "output_type": "stream",
          "name": "stdout",
          "text": [
            "8/8 [==============================] - 0s 5ms/step\n",
            "Accuracy: 0.775\n"
          ]
        }
      ]
    },
    {
      "cell_type": "markdown",
      "source": [
        "Creating Confusion Matrix and finding Precision, Recall, F1 & F2 Score on **Task B** by Bidirectional GRU model"
      ],
      "metadata": {
        "id": "JvmtDWNSUKxg"
      }
    },
    {
      "cell_type": "code",
      "source": [
        "\n",
        "import numpy as np\n",
        "import matplotlib.pyplot as plt\n",
        "import seaborn as sns\n",
        "from sklearn.metrics import confusion_matrix\n",
        "\n",
        "cm = confusion_matrix(y_b_test, binary_data4)\n",
        "\n",
        "plt.figure(figsize=(6, 6))\n",
        "sns.heatmap(cm, annot=True, fmt=\"d\", cmap=\"Blues\",\n",
        "            xticklabels=[\"Predicted Negative\", \"Predicted Positive\"],\n",
        "            yticklabels=[\"True Negative\", \"True Positive\"])\n",
        "plt.xlabel(\"Predicted\")\n",
        "plt.ylabel(\"True\")\n",
        "plt.title(\"Confusion Matrix for Bidirectional GRU\")\n",
        "plt.show()\n",
        "\n",
        "from sklearn.metrics import precision_score, recall_score\n",
        "\n",
        "precision = precision_score(y_b_test, binary_data4)\n",
        "recall = recall_score(y_b_test, binary_data4)\n",
        "\n",
        "print(\"Precision:\", precision)\n",
        "print(\"Recall:\", recall)\n",
        "\n",
        "from sklearn.metrics import f1_score, fbeta_score\n",
        "from sklearn.datasets import load_iris\n",
        "from sklearn.ensemble import RandomForestClassifier\n",
        "from sklearn.model_selection import train_test_split\n",
        "\n",
        "\n",
        "\n",
        "\n",
        "clf = RandomForestClassifier(n_estimators=100, random_state=42)\n",
        "clf.fit(X_b_train, y_b_train)\n",
        "\n",
        "\n",
        "y_pred = clf.predict(X_b_test)\n",
        "\n",
        "\n",
        "f1 = f1_score(y_b_test, binary_data4)\n",
        "\n",
        "f2 = fbeta_score(y_b_test, binary_data4, beta=2)\n",
        "\n",
        "print(f\"F1 Score: {f1:.4f}\")\n",
        "print(f\"F2 Score: {f2:.4f}\")\n"
      ],
      "metadata": {
        "colab": {
          "base_uri": "https://localhost:8080/",
          "height": 633
        },
        "id": "7TwYTl1NcBOW",
        "outputId": "9a47b240-9a4d-4cc5-8274-4ef2f2b2ef9c"
      },
      "execution_count": null,
      "outputs": [
        {
          "output_type": "display_data",
          "data": {
            "text/plain": [
              "<Figure size 600x600 with 2 Axes>"
            ],
            "image/png": "[encoded data removed]"
          },
          "metadata": {}
        },
        {
          "output_type": "stream",
          "name": "stdout",
          "text": [
            "Precision: 0.15384615384615385\n",
            "Recall: 0.2222222222222222\n",
            "F1 Score: 0.1818\n",
            "F2 Score: 0.2041\n"
          ]
        }
      ]
    },
    {
      "cell_type": "code",
      "source": [
        "nltk.download('punkt')\n",
        "from nltk.tokenize import word_tokenize\n",
        "dctnry={}\n",
        "for i in corpus:\n",
        "    words = word_tokenize(i)\n",
        "    for j in words:\n",
        "        if j not in dctnry:\n",
        "            dctnry[j]=0\n",
        "        dctnry[j]+=1\n",
        "\n",
        "dctnry.pop(\"user\")\n",
        "dctnry.pop(\"url\")\n",
        "maxi=max(dctnry.values())\n",
        "mini=min(dctnry.values())\n",
        "for key, val in dctnry.items():\n",
        "    if val==maxi:\n",
        "        print(key)\n",
        "        break\n",
        "for key, val in dctnry.items():\n",
        "    if val==mini:\n",
        "        print(key)\n",
        "        break"
      ],
      "metadata": {
        "colab": {
          "base_uri": "https://localhost:8080/"
        },
        "id": "FWK_5R5hAMxI",
        "outputId": "4efe060c-2dba-45d0-f3ad-803ab671f9c3"
      },
      "execution_count": null,
      "outputs": [
        {
          "output_type": "stream",
          "name": "stderr",
          "text": [
            "[nltk_data] Downloading package punkt to /root/nltk_data...\n",
            "[nltk_data]   Package punkt is already up-to-date!\n"
          ]
        },
        {
          "output_type": "stream",
          "name": "stdout",
          "text": [
            "liber\n",
            "vetaken\n"
          ]
        }
      ]
    },
    {
      "cell_type": "code",
      "source": [
        "nltk.download('punkt')\n",
        "from nltk.tokenize import word_tokenize\n",
        "dctnry={}\n",
        "for i in corpus2:\n",
        "    words = word_tokenize(i)\n",
        "    for j in words:\n",
        "        if j not in dctnry:\n",
        "            dctnry[j]=0\n",
        "        dctnry[j]+=1\n",
        "\n",
        "dctnry.pop(\"user\")\n",
        "dctnry.pop(\"url\")\n",
        "maxi=max(dctnry.values())\n",
        "mini=min(dctnry.values())\n",
        "for key, val in dctnry.items():\n",
        "    if val==maxi:\n",
        "        print(key)\n",
        "        break\n",
        "for key, val in dctnry.items():\n",
        "    if val==mini:\n",
        "        print(key)\n",
        "        break\n"
      ],
      "metadata": {
        "colab": {
          "base_uri": "https://localhost:8080/"
        },
        "id": "IY_DFsgiASK_",
        "outputId": "44beae69-ed16-4b06-c68d-00a6ffb6e9f7"
      },
      "execution_count": null,
      "outputs": [
        {
          "output_type": "stream",
          "name": "stdout",
          "text": [
            "liber\n",
            "whoisq\n"
          ]
        },
        {
          "output_type": "stream",
          "name": "stderr",
          "text": [
            "[nltk_data] Downloading package punkt to /root/nltk_data...\n",
            "[nltk_data]   Package punkt is already up-to-date!\n"
          ]
        }
      ]
    },
    {
      "cell_type": "code",
      "source": [
        "nltk.download('punkt')\n",
        "from nltk.tokenize import word_tokenize\n",
        "dctnry={}\n",
        "for i in corpus3:\n",
        "    words = word_tokenize(i)\n",
        "    for j in words:\n",
        "        if j not in dctnry:\n",
        "            dctnry[j]=0\n",
        "        dctnry[j]+=1\n",
        "\n",
        "dctnry.pop(\"user\")\n",
        "dctnry.pop(\"url\")\n",
        "maxi=max(dctnry.values())\n",
        "mini=min(dctnry.values())\n",
        "for key, val in dctnry.items():\n",
        "    if val==maxi:\n",
        "        print(key)\n",
        "        break\n",
        "for key, val in dctnry.items():\n",
        "    if val==mini:\n",
        "        print(key)\n",
        "        break\n"
      ],
      "metadata": {
        "colab": {
          "base_uri": "https://localhost:8080/"
        },
        "id": "5uvtJeHhAXqB",
        "outputId": "b165e980-5ff2-45b0-9730-f7009f158e20"
      },
      "execution_count": null,
      "outputs": [
        {
          "output_type": "stream",
          "name": "stdout",
          "text": [
            "liber\n",
            "whoisq\n"
          ]
        },
        {
          "output_type": "stream",
          "name": "stderr",
          "text": [
            "[nltk_data] Downloading package punkt to /root/nltk_data...\n",
            "[nltk_data]   Package punkt is already up-to-date!\n"
          ]
        }
      ]
    },
    {
      "cell_type": "markdown",
      "source": [
        "**References**"
      ],
      "metadata": {
        "id": "JBQ5rjI-o5hW"
      }
    },
    {
      "cell_type": "markdown",
      "source": [
        "1. ChatGPT"
      ],
      "metadata": {
        "id": "eIiKT3zkpCTw"
      }
    },
    {
      "cell_type": "markdown",
      "source": [
        "2. Github: https://github.com/krishnaik06/Fake-New-LSTM/blob/master/FakeNewsClassifierUsingBidirectionalLSTM.ipynb"
      ],
      "metadata": {
        "id": "S47_TOQFpGzQ"
      }
    }
  ]
}